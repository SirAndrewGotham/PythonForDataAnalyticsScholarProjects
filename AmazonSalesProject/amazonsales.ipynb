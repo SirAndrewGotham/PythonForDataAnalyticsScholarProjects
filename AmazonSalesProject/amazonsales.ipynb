{
 "cells": [
  {
   "metadata": {},
   "cell_type": "markdown",
   "source": "# General Amazon Sales Operations",
   "id": "6f89f336d9448587"
  },
  {
   "cell_type": "code",
   "id": "initial_id",
   "metadata": {
    "collapsed": true,
    "ExecuteTime": {
     "end_time": "2025-07-07T02:45:06.943919Z",
     "start_time": "2025-07-07T02:44:48.859901Z"
    }
   },
   "source": [
    "import pandas as pd\n",
    "\n",
    "sales_data = pd.read_excel('..\\\\..\\\\..\\\\DataSpell\\\\DataAnalyticsScholarProjects\\\\AmazonSalesProject\\\\sales_data.xlsx')"
   ],
   "outputs": [],
   "execution_count": 1
  },
  {
   "metadata": {},
   "cell_type": "markdown",
   "source": [
    "#### ===============================================================\n",
    "#### Exploring the data\n",
    "#### ==============================================================="
   ],
   "id": "a0c12ab096bc8922"
  },
  {
   "metadata": {
    "ExecuteTime": {
     "end_time": "2025-07-07T02:45:10.895101Z",
     "start_time": "2025-07-07T02:45:10.787953Z"
    }
   },
   "cell_type": "code",
   "source": [
    "# Get a summary of the sales data\n",
    "sales_data.info()\n",
    "sales_data.describe()\n"
   ],
   "id": "4c2552bdefd4c3d5",
   "outputs": [
    {
     "name": "stdout",
     "output_type": "stream",
     "text": [
      "<class 'pandas.core.frame.DataFrame'>\n",
      "RangeIndex: 128975 entries, 0 to 128974\n",
      "Data columns (total 23 columns):\n",
      " #   Column              Non-Null Count   Dtype  \n",
      "---  ------              --------------   -----  \n",
      " 0   index               128975 non-null  int64  \n",
      " 1   Order ID            128975 non-null  object \n",
      " 2   Date                128975 non-null  object \n",
      " 3   Status              128975 non-null  object \n",
      " 4   Fulfilment          128975 non-null  object \n",
      " 5   Sales Channel       128975 non-null  object \n",
      " 6   ship-service-level  128975 non-null  object \n",
      " 7   Style               128975 non-null  object \n",
      " 8   SKU                 128975 non-null  object \n",
      " 9   Category            128975 non-null  object \n",
      " 10  Size                128975 non-null  object \n",
      " 11  ASIN                128975 non-null  object \n",
      " 12  Courier Status      122103 non-null  object \n",
      " 13  Qty                 128975 non-null  int64  \n",
      " 14  currency            121180 non-null  object \n",
      " 15  Amount              121180 non-null  float64\n",
      " 16  ship-city           128942 non-null  object \n",
      " 17  ship-state          128935 non-null  object \n",
      " 18  ship-postal-code    128935 non-null  float64\n",
      " 19  ship-country        128935 non-null  object \n",
      " 20  promotion-ids       79815 non-null   object \n",
      " 21  B2B                 128968 non-null  float64\n",
      " 22  fulfilled-by        39276 non-null   object \n",
      "dtypes: float64(3), int64(2), object(18)\n",
      "memory usage: 22.6+ MB\n"
     ]
    },
    {
     "data": {
      "text/plain": [
       "               index            Qty         Amount  ship-postal-code  \\\n",
       "count  128975.000000  128975.000000  121180.000000     128935.000000   \n",
       "mean    64487.000000       0.904431     648.561465     463963.108256   \n",
       "std     37232.019822       0.313354     281.211687     191475.865632   \n",
       "min         0.000000       0.000000       0.000000     110001.000000   \n",
       "25%     32243.500000       1.000000     449.000000     382421.000000   \n",
       "50%     64487.000000       1.000000     605.000000     500033.000000   \n",
       "75%     96730.500000       1.000000     788.000000     600024.000000   \n",
       "max    128974.000000      15.000000    5584.000000     989898.000000   \n",
       "\n",
       "                 B2B  \n",
       "count  128968.000000  \n",
       "mean        0.006754  \n",
       "std         0.081903  \n",
       "min         0.000000  \n",
       "25%         0.000000  \n",
       "50%         0.000000  \n",
       "75%         0.000000  \n",
       "max         1.000000  "
      ],
      "text/html": [
       "<div>\n",
       "<style scoped>\n",
       "    .dataframe tbody tr th:only-of-type {\n",
       "        vertical-align: middle;\n",
       "    }\n",
       "\n",
       "    .dataframe tbody tr th {\n",
       "        vertical-align: top;\n",
       "    }\n",
       "\n",
       "    .dataframe thead th {\n",
       "        text-align: right;\n",
       "    }\n",
       "</style>\n",
       "<table border=\"1\" class=\"dataframe\">\n",
       "  <thead>\n",
       "    <tr style=\"text-align: right;\">\n",
       "      <th></th>\n",
       "      <th>index</th>\n",
       "      <th>Qty</th>\n",
       "      <th>Amount</th>\n",
       "      <th>ship-postal-code</th>\n",
       "      <th>B2B</th>\n",
       "    </tr>\n",
       "  </thead>\n",
       "  <tbody>\n",
       "    <tr>\n",
       "      <th>count</th>\n",
       "      <td>128975.000000</td>\n",
       "      <td>128975.000000</td>\n",
       "      <td>121180.000000</td>\n",
       "      <td>128935.000000</td>\n",
       "      <td>128968.000000</td>\n",
       "    </tr>\n",
       "    <tr>\n",
       "      <th>mean</th>\n",
       "      <td>64487.000000</td>\n",
       "      <td>0.904431</td>\n",
       "      <td>648.561465</td>\n",
       "      <td>463963.108256</td>\n",
       "      <td>0.006754</td>\n",
       "    </tr>\n",
       "    <tr>\n",
       "      <th>std</th>\n",
       "      <td>37232.019822</td>\n",
       "      <td>0.313354</td>\n",
       "      <td>281.211687</td>\n",
       "      <td>191475.865632</td>\n",
       "      <td>0.081903</td>\n",
       "    </tr>\n",
       "    <tr>\n",
       "      <th>min</th>\n",
       "      <td>0.000000</td>\n",
       "      <td>0.000000</td>\n",
       "      <td>0.000000</td>\n",
       "      <td>110001.000000</td>\n",
       "      <td>0.000000</td>\n",
       "    </tr>\n",
       "    <tr>\n",
       "      <th>25%</th>\n",
       "      <td>32243.500000</td>\n",
       "      <td>1.000000</td>\n",
       "      <td>449.000000</td>\n",
       "      <td>382421.000000</td>\n",
       "      <td>0.000000</td>\n",
       "    </tr>\n",
       "    <tr>\n",
       "      <th>50%</th>\n",
       "      <td>64487.000000</td>\n",
       "      <td>1.000000</td>\n",
       "      <td>605.000000</td>\n",
       "      <td>500033.000000</td>\n",
       "      <td>0.000000</td>\n",
       "    </tr>\n",
       "    <tr>\n",
       "      <th>75%</th>\n",
       "      <td>96730.500000</td>\n",
       "      <td>1.000000</td>\n",
       "      <td>788.000000</td>\n",
       "      <td>600024.000000</td>\n",
       "      <td>0.000000</td>\n",
       "    </tr>\n",
       "    <tr>\n",
       "      <th>max</th>\n",
       "      <td>128974.000000</td>\n",
       "      <td>15.000000</td>\n",
       "      <td>5584.000000</td>\n",
       "      <td>989898.000000</td>\n",
       "      <td>1.000000</td>\n",
       "    </tr>\n",
       "  </tbody>\n",
       "</table>\n",
       "</div>"
      ]
     },
     "execution_count": 2,
     "metadata": {},
     "output_type": "execute_result"
    }
   ],
   "execution_count": 2
  },
  {
   "metadata": {
    "ExecuteTime": {
     "end_time": "2025-07-07T02:45:21.328646Z",
     "start_time": "2025-07-07T02:45:21.325684Z"
    }
   },
   "cell_type": "code",
   "source": [
    "# columns list\n",
    "print(sales_data.columns)\n"
   ],
   "id": "90e4bd07cb756810",
   "outputs": [
    {
     "name": "stdout",
     "output_type": "stream",
     "text": [
      "Index(['index', 'Order ID', 'Date', 'Status', 'Fulfilment', 'Sales Channel ',\n",
      "       'ship-service-level', 'Style', 'SKU', 'Category', 'Size', 'ASIN',\n",
      "       'Courier Status', 'Qty', 'currency', 'Amount', 'ship-city',\n",
      "       'ship-state', 'ship-postal-code', 'ship-country', 'promotion-ids',\n",
      "       'B2B', 'fulfilled-by'],\n",
      "      dtype='object')\n"
     ]
    }
   ],
   "execution_count": 3
  },
  {
   "metadata": {
    "ExecuteTime": {
     "end_time": "2025-07-07T02:45:25.261968Z",
     "start_time": "2025-07-07T02:45:25.251528Z"
    }
   },
   "cell_type": "code",
   "source": [
    "# looking at the first few rows of data\n",
    "print(sales_data.head())\n"
   ],
   "id": "947fea78eef3db0a",
   "outputs": [
    {
     "name": "stdout",
     "output_type": "stream",
     "text": [
      "   index             Order ID      Date                        Status  \\\n",
      "0      0  405-8078784-5731545  04-30-22                     Cancelled   \n",
      "1      1  171-9198151-1101146  04-30-22  Shipped - Delivered to Buyer   \n",
      "2      2  404-0687676-7273146  04-30-22                       Shipped   \n",
      "3      3  403-9615377-8133951  04-30-22                     Cancelled   \n",
      "4      4  407-1069790-7240320  04-30-22                       Shipped   \n",
      "\n",
      "  Fulfilment Sales Channel  ship-service-level    Style              SKU  \\\n",
      "0   Merchant      Amazon.in           Standard   SET389   SET389-KR-NP-S   \n",
      "1   Merchant      Amazon.in           Standard  JNE3781  JNE3781-KR-XXXL   \n",
      "2     Amazon      Amazon.in          Expedited  JNE3371    JNE3371-KR-XL   \n",
      "3   Merchant      Amazon.in           Standard    J0341       J0341-DR-L   \n",
      "4     Amazon      Amazon.in          Expedited  JNE3671  JNE3671-TU-XXXL   \n",
      "\n",
      "  Category  ... Qty currency  Amount    ship-city   ship-state  \\\n",
      "0      Set  ...   0      INR  647.62       MUMBAI  MAHARASHTRA   \n",
      "1   Blouse  ...   1      INR  406.00    BENGALURU    KARNATAKA   \n",
      "2   Blouse  ...   1      INR  329.00  NAVI MUMBAI  MAHARASHTRA   \n",
      "3    Dress  ...   0      INR  753.33   PUDUCHERRY   PUDUCHERRY   \n",
      "4      Top  ...   1      INR  574.00      CHENNAI   TAMIL NADU   \n",
      "\n",
      "   ship-postal-code ship-country  \\\n",
      "0          400081.0           IN   \n",
      "1          560085.0           IN   \n",
      "2          410210.0           IN   \n",
      "3          605008.0           IN   \n",
      "4          600073.0           IN   \n",
      "\n",
      "                                       promotion-ids  B2B fulfilled-by  \n",
      "0                                                NaN  0.0    Easy Ship  \n",
      "1  Amazon PLCC Free-Financing Universal Merchant ...  0.0    Easy Ship  \n",
      "2       IN Core Free Shipping 2015/04/08 23-48-5-108  1.0          NaN  \n",
      "3                                                NaN  0.0    Easy Ship  \n",
      "4                                                NaN  0.0          NaN  \n",
      "\n",
      "[5 rows x 23 columns]\n"
     ]
    }
   ],
   "execution_count": 4
  },
  {
   "metadata": {
    "ExecuteTime": {
     "end_time": "2025-07-07T02:46:18.731298Z",
     "start_time": "2025-07-07T02:46:18.726030Z"
    }
   },
   "cell_type": "code",
   "source": [
    "# check columns datatypes\n",
    "print(sales_data.dtypes)"
   ],
   "id": "ac024d7a60f6edf6",
   "outputs": [
    {
     "name": "stdout",
     "output_type": "stream",
     "text": [
      "index                   int64\n",
      "Order ID               object\n",
      "Date                   object\n",
      "Status                 object\n",
      "Fulfilment             object\n",
      "Sales Channel          object\n",
      "ship-service-level     object\n",
      "Style                  object\n",
      "SKU                    object\n",
      "Category               object\n",
      "Size                   object\n",
      "ASIN                   object\n",
      "Courier Status         object\n",
      "Qty                     int64\n",
      "currency               object\n",
      "Amount                float64\n",
      "ship-city              object\n",
      "ship-state             object\n",
      "ship-postal-code      float64\n",
      "ship-country           object\n",
      "promotion-ids          object\n",
      "B2B                   float64\n",
      "fulfilled-by           object\n",
      "dtype: object\n"
     ]
    }
   ],
   "execution_count": 5
  },
  {
   "metadata": {},
   "cell_type": "markdown",
   "source": [
    "#### ===============================================================\n",
    "#### Cleaning the data\n",
    "#### ==============================================================="
   ],
   "id": "f797a9137f923a22"
  },
  {
   "metadata": {
    "ExecuteTime": {
     "end_time": "2025-07-07T02:46:31.571608Z",
     "start_time": "2025-07-07T02:46:31.498698Z"
    }
   },
   "cell_type": "code",
   "source": [
    "# Check for missing values in the sales data, summing it all up\n",
    "print(sales_data.isnull().sum())"
   ],
   "id": "31d89d6213000d97",
   "outputs": [
    {
     "name": "stdout",
     "output_type": "stream",
     "text": [
      "index                     0\n",
      "Order ID                  0\n",
      "Date                      0\n",
      "Status                    0\n",
      "Fulfilment                0\n",
      "Sales Channel             0\n",
      "ship-service-level        0\n",
      "Style                     0\n",
      "SKU                       0\n",
      "Category                  0\n",
      "Size                      0\n",
      "ASIN                      0\n",
      "Courier Status         6872\n",
      "Qty                       0\n",
      "currency               7795\n",
      "Amount                 7795\n",
      "ship-city                33\n",
      "ship-state               40\n",
      "ship-postal-code         40\n",
      "ship-country             40\n",
      "promotion-ids         49160\n",
      "B2B                       7\n",
      "fulfilled-by          89699\n",
      "dtype: int64\n"
     ]
    }
   ],
   "execution_count": 6
  },
  {
   "metadata": {
    "ExecuteTime": {
     "end_time": "2025-07-07T02:46:49.673456Z",
     "start_time": "2025-07-07T02:46:49.596073Z"
    }
   },
   "cell_type": "code",
   "source": [
    "# Drop any rows that has missing/nan values\n",
    "sales_data_dropped = sales_data.dropna() # too many due to dropping some unimportant columns\n"
   ],
   "id": "98a90f2893f732d2",
   "outputs": [],
   "execution_count": 7
  },
  {
   "metadata": {
    "ExecuteTime": {
     "end_time": "2025-07-07T02:47:27.926979Z",
     "start_time": "2025-07-07T02:47:27.898848Z"
    }
   },
   "cell_type": "code",
   "source": [
    "# Drop rows with missing amounts in the \"amount\" column\n",
    "sales_data_cleaned = sales_data.dropna(subset=['Amount'])\n"
   ],
   "id": "250e67f4386a7161",
   "outputs": [],
   "execution_count": 8
  },
  {
   "metadata": {
    "ExecuteTime": {
     "end_time": "2025-07-07T02:47:30.626076Z",
     "start_time": "2025-07-07T02:47:30.555913Z"
    }
   },
   "cell_type": "code",
   "source": [
    "# Check for missing valued in the cleaned dataset\n",
    "print(sales_data_cleaned.isnull().sum())"
   ],
   "id": "996ed955bdf92a6b",
   "outputs": [
    {
     "name": "stdout",
     "output_type": "stream",
     "text": [
      "index                     0\n",
      "Order ID                  0\n",
      "Date                      0\n",
      "Status                    0\n",
      "Fulfilment                0\n",
      "Sales Channel             0\n",
      "ship-service-level        0\n",
      "Style                     0\n",
      "SKU                       0\n",
      "Category                  0\n",
      "Size                      0\n",
      "ASIN                      0\n",
      "Courier Status         5136\n",
      "Qty                       0\n",
      "currency                  0\n",
      "Amount                    0\n",
      "ship-city                31\n",
      "ship-state               38\n",
      "ship-postal-code         38\n",
      "ship-country             38\n",
      "promotion-ids         41705\n",
      "B2B                       7\n",
      "fulfilled-by          83640\n",
      "dtype: int64\n"
     ]
    }
   ],
   "execution_count": 9
  },
  {
   "metadata": {},
   "cell_type": "markdown",
   "source": [
    "#### ===============================================================\n",
    "#### Slicing and Filtering Data\n",
    "#### ==============================================================="
   ],
   "id": "f7159c13d26c533a"
  },
  {
   "metadata": {
    "ExecuteTime": {
     "end_time": "2025-07-07T03:27:02.034339Z",
     "start_time": "2025-07-07T03:27:01.999799Z"
    }
   },
   "cell_type": "code",
   "source": [
    "# Select a subset of the DataFrame based on the \"Category\" column\n",
    "category_data = sales_data_cleaned[sales_data_cleaned['Category'] == \"Top\"]\n",
    "print(category_data)"
   ],
   "id": "10bd0be20a52507c",
   "outputs": [
    {
     "name": "stdout",
     "output_type": "stream",
     "text": [
      "         index             Order ID      Date                        Status  \\\n",
      "4            4  407-1069790-7240320  04-30-22                       Shipped   \n",
      "47          47  408-9281152-6213100  04-30-22                       Shipped   \n",
      "54          54  402-7944191-1869101  04-30-22                       Shipped   \n",
      "67          67  404-4535078-5241919  04-30-22                       Shipped   \n",
      "109        109  403-7266170-1163500  04-30-22  Shipped - Delivered to Buyer   \n",
      "...        ...                  ...       ...                           ...   \n",
      "128923  128923  402-1698543-5164342  05-31-22                       Shipped   \n",
      "128941  128941  403-3035549-4142738  05-31-22                       Shipped   \n",
      "128942  128942  403-3035549-4142738  05-31-22                       Shipped   \n",
      "128949  128949  403-7050981-8813953  05-31-22                       Shipped   \n",
      "128965  128965  408-5154281-4593912  05-31-22                     Cancelled   \n",
      "\n",
      "       Fulfilment Sales Channel  ship-service-level    Style              SKU  \\\n",
      "4          Amazon      Amazon.in          Expedited  JNE3671  JNE3671-TU-XXXL   \n",
      "47         Amazon      Amazon.in          Expedited  JNE3744     JNE3744-TU-S   \n",
      "54         Amazon      Amazon.in          Expedited    J0301       J0301-TP-L   \n",
      "67         Amazon      Amazon.in          Expedited  JNE3645   JNE3645-TP-N-L   \n",
      "109      Merchant      Amazon.in           Standard  JNE3648   JNE3648-TP-N-M   \n",
      "...           ...            ...                ...      ...              ...   \n",
      "128923     Amazon      Amazon.in          Expedited    J0418      J0418-TP-XL   \n",
      "128941     Amazon      Amazon.in          Expedited    J0118     J0118-TP-XXL   \n",
      "128942     Amazon      Amazon.in          Expedited    J0301     J0301-TP-XXL   \n",
      "128949     Amazon      Amazon.in          Expedited    J0113       J0113-TP-M   \n",
      "128965     Amazon      Amazon.in          Expedited    J0119    J0119-TP-XXXL   \n",
      "\n",
      "       Category  ... Qty currency Amount              ship-city  \\\n",
      "4           Top  ...   1      INR  574.0                CHENNAI   \n",
      "47          Top  ...   1      INR  665.0           SECUNDERABAD   \n",
      "54          Top  ...   1      INR  493.0              BENGALURU   \n",
      "67          Top  ...   1      INR  432.0                   PUNE   \n",
      "109         Top  ...   1      INR  518.0                 MUMBAI   \n",
      "...         ...  ...  ..      ...    ...                    ...   \n",
      "128923      Top  ...   1      INR  749.0              HYDERABAD   \n",
      "128941      Top  ...   1      INR  529.0              BENGALURU   \n",
      "128942      Top  ...   1      INR  518.0              BENGALURU   \n",
      "128949      Top  ...   1      INR  574.0                CHENNAI   \n",
      "128965      Top  ...   1      INR  574.0  Prayagraj (ALLAHABAD)   \n",
      "\n",
      "           ship-state  ship-postal-code ship-country  \\\n",
      "4          TAMIL NADU          600073.0           IN   \n",
      "47          TELANGANA          500017.0           IN   \n",
      "54          KARNATAKA          560076.0           IN   \n",
      "67        MAHARASHTRA          411014.0           IN   \n",
      "109       MAHARASHTRA          400076.0           IN   \n",
      "...               ...               ...          ...   \n",
      "128923      TELANGANA          500084.0           IN   \n",
      "128941      KARNATAKA          560102.0           IN   \n",
      "128942      KARNATAKA          560102.0           IN   \n",
      "128949     TAMIL NADU          600021.0           IN   \n",
      "128965  UTTAR PRADESH          211007.0           IN   \n",
      "\n",
      "                                            promotion-ids  B2B fulfilled-by  \n",
      "4                                                     NaN  0.0          NaN  \n",
      "47           IN Core Free Shipping 2015/04/08 23-48-5-108  0.0          NaN  \n",
      "54           IN Core Free Shipping 2015/04/08 23-48-5-108  0.0          NaN  \n",
      "67           IN Core Free Shipping 2015/04/08 23-48-5-108  0.0          NaN  \n",
      "109     Amazon PLCC Free-Financing Universal Merchant ...  0.0    Easy Ship  \n",
      "...                                                   ...  ...          ...  \n",
      "128923  IN Core Free Shipping 2015/04/08 23-48-5-108,V...  0.0          NaN  \n",
      "128941                                                NaN  0.0          NaN  \n",
      "128942                                                NaN  0.0          NaN  \n",
      "128949                                                NaN  0.0          NaN  \n",
      "128965                                                NaN  0.0          NaN  \n",
      "\n",
      "[10165 rows x 23 columns]\n"
     ]
    }
   ],
   "execution_count": 10
  },
  {
   "metadata": {
    "ExecuteTime": {
     "end_time": "2025-07-07T03:27:33.048486Z",
     "start_time": "2025-07-07T03:27:33.025314Z"
    }
   },
   "cell_type": "code",
   "source": [
    "# Select a subset of the DataFrame where amounts > 1000\n",
    "category_data = sales_data_cleaned[sales_data_cleaned['Amount'] > 1000]\n",
    "print(category_data)"
   ],
   "id": "bba86b9191486dbf",
   "outputs": [
    {
     "name": "stdout",
     "output_type": "stream",
     "text": [
      "         index             Order ID      Date                        Status  \\\n",
      "32          32  404-9632124-1107550  04-30-22  Shipped - Delivered to Buyer   \n",
      "43          43  408-3478480-0881162  04-30-22                       Shipped   \n",
      "46          46  408-3917043-5314763  04-30-22                       Shipped   \n",
      "52          52  408-7138000-9728362  04-30-22                       Shipped   \n",
      "69          69  405-6480932-8759528  04-30-22                       Shipped   \n",
      "...        ...                  ...       ...                           ...   \n",
      "128938  128938  403-6231612-3153120  05-31-22                       Shipped   \n",
      "128954  128954  403-8464685-9792368  05-31-22                       Shipped   \n",
      "128957  128957  402-8261465-0622733  05-31-22                       Shipped   \n",
      "128966  128966  406-9812666-2474761  05-31-22                       Shipped   \n",
      "128973  128973  402-6184140-0545956  05-31-22                       Shipped   \n",
      "\n",
      "       Fulfilment Sales Channel  ship-service-level   Style              SKU  \\\n",
      "32       Merchant      Amazon.in           Standard   J0011      J0011-LCD-M   \n",
      "43         Amazon      Amazon.in          Expedited  SET360   SET360-KR-NP-M   \n",
      "46         Amazon      Amazon.in          Expedited   J0230      J0230-SKD-L   \n",
      "52         Amazon      Amazon.in          Expedited  SET282   SET282-KR-PP-M   \n",
      "69         Amazon      Amazon.in          Expedited   J0381   J0381-SKD-XXXL   \n",
      "...           ...            ...                ...     ...              ...   \n",
      "128938     Amazon      Amazon.in          Expedited   J0002      J0002-SKD-S   \n",
      "128954     Amazon      Amazon.in          Expedited   J0376      J0376-SKD-S   \n",
      "128957     Amazon      Amazon.in          Expedited   J0230      J0230-SKD-M   \n",
      "128966     Amazon      Amazon.in          Expedited  SET224  SET224-KR-NP-XS   \n",
      "128973     Amazon      Amazon.in          Expedited   J0012     J0012-SKD-XS   \n",
      "\n",
      "       Category  ... Qty currency  Amount       ship-city      ship-state  \\\n",
      "32          Set  ...   1      INR  1233.0   VISAKHAPATNAM  ANDHRA PRADESH   \n",
      "43          Set  ...   1      INR  1126.0         LUCKNOW   UTTAR PRADESH   \n",
      "46          Set  ...   1      INR  1146.0          ONGOLE  ANDHRA PRADESH   \n",
      "52          Set  ...   1      INR  1033.0         dimapur        NAGALAND   \n",
      "69          Set  ...   1      INR  1146.0        VIJAPURA       KARNATAKA   \n",
      "...         ...  ...  ..      ...     ...             ...             ...   \n",
      "128938      Set  ...   1      INR  1186.0       GORAKHPUR   UTTAR PRADESH   \n",
      "128954      Set  ...   1      INR  1063.0       NEW DELHI           DELHI   \n",
      "128957      Set  ...   1      INR  1349.0          RANCHI       JHARKHAND   \n",
      "128966      Set  ...   1      INR  1132.0  CHENNAI 600042      TAMIL NADU   \n",
      "128973      Set  ...   1      INR  1199.0           Halol         Gujarat   \n",
      "\n",
      "        ship-postal-code ship-country  \\\n",
      "32              530016.0           IN   \n",
      "43              226017.0           IN   \n",
      "46              523001.0           IN   \n",
      "52              797112.0           IN   \n",
      "69              586201.0           IN   \n",
      "...                  ...          ...   \n",
      "128938          273006.0           IN   \n",
      "128954          110070.0           IN   \n",
      "128957          834002.0           IN   \n",
      "128966          600042.0           IN   \n",
      "128973          389350.0           IN   \n",
      "\n",
      "                                            promotion-ids  B2B fulfilled-by  \n",
      "32      Amazon PLCC Free-Financing Universal Merchant ...  0.0    Easy Ship  \n",
      "43           IN Core Free Shipping 2015/04/08 23-48-5-108  0.0          NaN  \n",
      "46                                                    NaN  0.0          NaN  \n",
      "52           IN Core Free Shipping 2015/04/08 23-48-5-108  0.0          NaN  \n",
      "69           IN Core Free Shipping 2015/04/08 23-48-5-108  0.0          NaN  \n",
      "...                                                   ...  ...          ...  \n",
      "128938                                                NaN  0.0          NaN  \n",
      "128954                                                NaN  0.0          NaN  \n",
      "128957       IN Core Free Shipping 2015/04/08 23-48-5-108  0.0          NaN  \n",
      "128966                                                NaN  0.0          NaN  \n",
      "128973       IN Core Free Shipping 2015/04/08 23-48-5-108  0.0          NaN  \n",
      "\n",
      "[13332 rows x 23 columns]\n"
     ]
    }
   ],
   "execution_count": 11
  },
  {
   "metadata": {
    "ExecuteTime": {
     "end_time": "2025-07-07T03:30:44.892032Z",
     "start_time": "2025-07-07T03:30:44.878697Z"
    }
   },
   "cell_type": "code",
   "source": [
    "# Select a subset of the DataFrame based on multiple conditions\n",
    "category_and_qty_data = sales_data_cleaned[(sales_data_cleaned['Amount'] > 1000) & (sales_data_cleaned['Qty'] == 3)]\n",
    "print(category_and_qty_data)"
   ],
   "id": "4d580790aae85384",
   "outputs": [
    {
     "name": "stdout",
     "output_type": "stream",
     "text": [
      "         index             Order ID                 Date  \\\n",
      "2107      2107  405-7829062-0073141             04-29-22   \n",
      "3289      3289  406-3338330-9401954             04-28-22   \n",
      "19180    19180  407-9962496-1568355             04-19-22   \n",
      "20534    20534  406-1124784-1093950             04-18-22   \n",
      "23739    23739  407-9225645-2865924             04-16-22   \n",
      "27300    27300  406-6222239-3031561             04-14-22   \n",
      "32278    32278  171-7532609-3249907  2025-11-22 00:00:00   \n",
      "33331    33331  405-4755854-9568304  2025-10-22 00:00:00   \n",
      "33332    33332  405-4755854-9568304  2025-10-22 00:00:00   \n",
      "34572    34572  404-0430156-5953153  2025-10-22 00:00:00   \n",
      "38113    38113  407-8127937-6618709  2025-07-22 00:00:00   \n",
      "46555    46555  402-7068488-0986720  2025-02-22 00:00:00   \n",
      "46867    46867  408-9783812-8938718  2025-02-22 00:00:00   \n",
      "48679    48679  406-5249521-6184310  2025-01-22 00:00:00   \n",
      "48680    48680  406-3024132-0408339  2025-01-22 00:00:00   \n",
      "49348    49348  408-3889919-3918768             05-31-22   \n",
      "54605    54605  171-9419863-7830701             05-27-22   \n",
      "57091    57091  405-3036482-4663513             05-25-22   \n",
      "57182    57182  171-8212807-5971522             05-25-22   \n",
      "74960    74960  171-3502000-6477118  2005-10-22 00:00:00   \n",
      "76157    76157  171-1831905-5247524  2005-09-22 00:00:00   \n",
      "77432    77432  405-2065226-8609112  2005-08-22 00:00:00   \n",
      "79891    79891  405-7311519-3898766  2005-07-22 00:00:00   \n",
      "79902    79902  405-4225331-3338755  2005-07-22 00:00:00   \n",
      "79903    79903  405-4225331-3338755  2005-07-22 00:00:00   \n",
      "120770  120770  402-7744718-3391556  2006-06-22 00:00:00   \n",
      "120797  120797  404-3709653-3513958  2006-06-22 00:00:00   \n",
      "124468  124468  406-6192147-7814754  2006-04-22 00:00:00   \n",
      "\n",
      "                              Status Fulfilment Sales Channel   \\\n",
      "2107    Shipped - Returned to Seller   Merchant      Amazon.in   \n",
      "3289    Shipped - Delivered to Buyer   Merchant      Amazon.in   \n",
      "19180                        Shipped     Amazon      Amazon.in   \n",
      "20534   Shipped - Delivered to Buyer   Merchant      Amazon.in   \n",
      "23739   Shipped - Delivered to Buyer   Merchant      Amazon.in   \n",
      "27300                        Shipped     Amazon      Amazon.in   \n",
      "32278   Shipped - Delivered to Buyer   Merchant      Amazon.in   \n",
      "33331                        Shipped     Amazon      Amazon.in   \n",
      "33332                        Shipped     Amazon      Amazon.in   \n",
      "34572   Shipped - Delivered to Buyer   Merchant      Amazon.in   \n",
      "38113   Shipped - Delivered to Buyer   Merchant      Amazon.in   \n",
      "46555                        Shipped     Amazon      Amazon.in   \n",
      "46867                        Shipped     Amazon      Amazon.in   \n",
      "48679   Shipped - Delivered to Buyer   Merchant      Amazon.in   \n",
      "48680                        Shipped     Amazon      Amazon.in   \n",
      "49348                        Shipped     Amazon      Amazon.in   \n",
      "54605                        Shipped     Amazon      Amazon.in   \n",
      "57091                        Shipped     Amazon      Amazon.in   \n",
      "57182                        Shipped     Amazon      Amazon.in   \n",
      "74960                        Shipped     Amazon      Amazon.in   \n",
      "76157                        Shipped     Amazon      Amazon.in   \n",
      "77432   Shipped - Delivered to Buyer   Merchant      Amazon.in   \n",
      "79891   Shipped - Returned to Seller   Merchant      Amazon.in   \n",
      "79902   Shipped - Returned to Seller   Merchant      Amazon.in   \n",
      "79903   Shipped - Returned to Seller   Merchant      Amazon.in   \n",
      "120770  Shipped - Returned to Seller   Merchant      Amazon.in   \n",
      "120797  Shipped - Returned to Seller   Merchant      Amazon.in   \n",
      "124468                       Shipped     Amazon      Amazon.in   \n",
      "\n",
      "       ship-service-level    Style                  SKU Category  ... Qty  \\\n",
      "2107             Standard  JNE3365  JNE3365-KR-1052-A-S   Blouse  ...   3   \n",
      "3289             Standard  JNE3798         JNE3798-KR-M    Dress  ...   3   \n",
      "19180           Expedited  JNE3291        JNE3291-KR-XL   Blouse  ...   3   \n",
      "20534            Standard    J0341           J0341-DR-M    Dress  ...   3   \n",
      "23739            Standard  JNE1951  JNE1951-KR-155-XXXL   Blouse  ...   3   \n",
      "27300           Expedited  JNE3365    JNE3365-KR-1052-M   Blouse  ...   3   \n",
      "32278            Standard  JNE3797         JNE3797-KR-M    Dress  ...   3   \n",
      "33331           Expedited  JNE3465        JNE3465-KR-XL   Blouse  ...   3   \n",
      "33332           Expedited  JNE3465         JNE3465-KR-M   Blouse  ...   3   \n",
      "34572            Standard   SET249      SET249-KR-NP-XL      Set  ...   3   \n",
      "38113            Standard   SET186       SET186-KR-DH-S      Set  ...   3   \n",
      "46555           Expedited   SET098       SET098-KR-PP-M      Set  ...   3   \n",
      "46867           Expedited   SET269      SET269-KR-NP-XL      Set  ...   3   \n",
      "48679            Standard    BL009        BL009-61BLACK   Blouse  ...   3   \n",
      "48680           Expedited    BL035        BL035-161GOLD   Blouse  ...   3   \n",
      "49348           Expedited   SET331      SET331-KR-NP-XS      Set  ...   3   \n",
      "54605           Expedited    J0341         J0341-DR-XXL    Dress  ...   3   \n",
      "57091           Expedited    J0119         J0119-TP-XXL      Top  ...   3   \n",
      "57182           Expedited  JNE3437         JNE3437-KR-S   Blouse  ...   3   \n",
      "74960           Expedited   SAR135               SAR135    Dress  ...   3   \n",
      "76157           Expedited   SET044       SET044-KR-NP-S      Set  ...   3   \n",
      "77432            Standard  JNE3781       JNE3781-KR-XXL   Blouse  ...   3   \n",
      "79891            Standard  JNE2171     JNE2171-KR-437-M   Blouse  ...   3   \n",
      "79902            Standard  JNE3671         JNE3671-TU-M      Top  ...   3   \n",
      "79903            Standard  JNE3673         JNE3673-TU-M      Top  ...   3   \n",
      "120770           Standard  JNE3609         JNE3609-KR-L   Blouse  ...   3   \n",
      "120797           Standard  JNE3739         JNE3739-KR-S   Blouse  ...   3   \n",
      "124468          Expedited  JNE3764       JNE3764-KR-XXL   Blouse  ...   3   \n",
      "\n",
      "       currency  Amount      ship-city      ship-state  ship-postal-code  \\\n",
      "2107        INR  1128.0          PALAM     MAHARASHTRA          431720.0   \n",
      "3289        INR  2175.0         KANPUR   UTTAR PRADESH          208001.0   \n",
      "19180       INR  1326.0        Tenkasi      TAMIL NADU          627855.0   \n",
      "20534       INR  2232.0          Kochi          KERALA          682036.0   \n",
      "23739       INR  1104.0      Hyderabad       TELANGANA          501510.0   \n",
      "27300       INR  1128.0          PALAM     MAHARASHTRA          431720.0   \n",
      "32278       INR  2175.0   RAXAUL BAZAR           BIHAR          845305.0   \n",
      "33331       INR  1551.0      MANGALURU       KARNATAKA          575006.0   \n",
      "33332       INR  1458.0      MANGALURU       KARNATAKA          575006.0   \n",
      "34572       INR  2040.0         MUMBAI     MAHARASHTRA          400069.0   \n",
      "38113       INR  1893.0           PUNE     MAHARASHTRA          411037.0   \n",
      "46555       INR  2016.0       ARSIKERE       KARNATAKA          573103.0   \n",
      "46867       INR  2397.0       NAMAKKAL      TAMIL NADU          637001.0   \n",
      "48679       INR  1017.0     JALPAIGURI     WEST BENGAL          735101.0   \n",
      "48680       INR  1116.0     JALPAIGURI     WEST BENGAL          735101.0   \n",
      "49348       INR  1923.0  Thiruchengode      TAMIL NADU          637215.0   \n",
      "54605       INR  2655.0    NAVI MUMBAI     MAHARASHTRA          410206.0   \n",
      "57091       INR  1722.0       DOMBIVLI     MAHARASHTRA          421201.0   \n",
      "57182       INR  1551.0     JAMSHEDPUR       JHARKHAND          831001.0   \n",
      "74960       INR  2058.0     VILLUPURAM      TAMIL NADU          605602.0   \n",
      "76157       INR  1836.0       GUNTAKAL  ANDHRA PRADESH          515801.0   \n",
      "77432       INR  1248.0       PILICODE          KERALA          671313.0   \n",
      "79891       INR  1572.0   MAHENDRAGARH         HARYANA          123029.0   \n",
      "79902       INR  1764.0   MAHENDRAGARH         HARYANA          123029.0   \n",
      "79903       INR  1797.0   MAHENDRAGARH         HARYANA          123029.0   \n",
      "120770      INR  1704.0        Chennai      TAMIL NADU          600033.0   \n",
      "120797      INR  1377.0      BENGALURU       KARNATAKA          560102.0   \n",
      "124468      INR  1161.0      BENGALURU       KARNATAKA          560066.0   \n",
      "\n",
      "       ship-country                                      promotion-ids  B2B  \\\n",
      "2107             IN  Amazon PLCC Free-Financing Universal Merchant ...  0.0   \n",
      "3289             IN  Amazon PLCC Free-Financing Universal Merchant ...  0.0   \n",
      "19180            IN       IN Core Free Shipping 2015/04/08 23-48-5-108  0.0   \n",
      "20534            IN  Amazon PLCC Free-Financing Universal Merchant ...  0.0   \n",
      "23739            IN  Amazon PLCC Free-Financing Universal Merchant ...  1.0   \n",
      "27300            IN       IN Core Free Shipping 2015/04/08 23-48-5-108  0.0   \n",
      "32278            IN  Amazon PLCC Free-Financing Universal Merchant ...  0.0   \n",
      "33331            IN       IN Core Free Shipping 2015/04/08 23-48-5-108  0.0   \n",
      "33332            IN       IN Core Free Shipping 2015/04/08 23-48-5-108  0.0   \n",
      "34572            IN  Amazon PLCC Free-Financing Universal Merchant ...  0.0   \n",
      "38113            IN  Amazon PLCC Free-Financing Universal Merchant ...  0.0   \n",
      "46555            IN       IN Core Free Shipping 2015/04/08 23-48-5-108  0.0   \n",
      "46867            IN       IN Core Free Shipping 2015/04/08 23-48-5-108  0.0   \n",
      "48679            IN  Amazon PLCC Free-Financing Universal Merchant ...  0.0   \n",
      "48680            IN       IN Core Free Shipping 2015/04/08 23-48-5-108  0.0   \n",
      "49348            IN       IN Core Free Shipping 2015/04/08 23-48-5-108  0.0   \n",
      "54605            IN       IN Core Free Shipping 2015/04/08 23-48-5-108  0.0   \n",
      "57091            IN       IN Core Free Shipping 2015/04/08 23-48-5-108  0.0   \n",
      "57182            IN       IN Core Free Shipping 2015/04/08 23-48-5-108  0.0   \n",
      "74960            IN       IN Core Free Shipping 2015/04/08 23-48-5-108  0.0   \n",
      "76157            IN       IN Core Free Shipping 2015/04/08 23-48-5-108  0.0   \n",
      "77432            IN  Amazon PLCC Free-Financing Universal Merchant ...  0.0   \n",
      "79891            IN  Amazon PLCC Free-Financing Universal Merchant ...  0.0   \n",
      "79902            IN  Amazon PLCC Free-Financing Universal Merchant ...  0.0   \n",
      "79903            IN  Amazon PLCC Free-Financing Universal Merchant ...  0.0   \n",
      "120770           IN  Amazon PLCC Free-Financing Universal Merchant ...  0.0   \n",
      "120797           IN  Amazon PLCC Free-Financing Universal Merchant ...  0.0   \n",
      "124468           IN       IN Core Free Shipping 2015/04/08 23-48-5-108  0.0   \n",
      "\n",
      "       fulfilled-by  \n",
      "2107      Easy Ship  \n",
      "3289      Easy Ship  \n",
      "19180           NaN  \n",
      "20534     Easy Ship  \n",
      "23739     Easy Ship  \n",
      "27300           NaN  \n",
      "32278     Easy Ship  \n",
      "33331           NaN  \n",
      "33332           NaN  \n",
      "34572     Easy Ship  \n",
      "38113     Easy Ship  \n",
      "46555           NaN  \n",
      "46867           NaN  \n",
      "48679     Easy Ship  \n",
      "48680           NaN  \n",
      "49348           NaN  \n",
      "54605           NaN  \n",
      "57091           NaN  \n",
      "57182           NaN  \n",
      "74960           NaN  \n",
      "76157           NaN  \n",
      "77432     Easy Ship  \n",
      "79891     Easy Ship  \n",
      "79902     Easy Ship  \n",
      "79903     Easy Ship  \n",
      "120770    Easy Ship  \n",
      "120797    Easy Ship  \n",
      "124468          NaN  \n",
      "\n",
      "[28 rows x 23 columns]\n"
     ]
    }
   ],
   "execution_count": 16
  },
  {
   "metadata": {},
   "cell_type": "markdown",
   "source": [
    "#### ===============================================================\n",
    "#### Agregating Data\n",
    "#### ==============================================================="
   ],
   "id": "5aaf5123429f580e"
  },
  {
   "metadata": {},
   "cell_type": "code",
   "outputs": [],
   "execution_count": null,
   "source": [
    "# Total sales by category\n",
    "category_totals = sales_data.groupby('Category')['Amount'].sum().reset_index()\n",
    "category_totals = category_totals.sort_values(by=['Amount'], ascending=False)\n"
   ],
   "id": "ec749404a848f09e"
  },
  {
   "metadata": {},
   "cell_type": "code",
   "outputs": [],
   "execution_count": null,
   "source": [
    "# Average amount by category and status\n",
    "# Average amount by category and fulfilment\n",
    "fulfilment_averages = sales_data.groupby(['Category', 'Fulfilment'], as_index=False)['Amount'].mean().sort_values(by=['Amount'], ascending=False)\n",
    "# Average amount by category and status\n",
    "category_and_status_average = sales_data.groupby(['Category', 'Status'], as_index=False)['Amount'].mean().sort_values(by=['Amount'], ascending=False)\n"
   ],
   "id": "32aab0fa19b79e3c"
  },
  {
   "metadata": {},
   "cell_type": "code",
   "outputs": [],
   "execution_count": null,
   "source": [
    "# Total Sales by fulfilment and shipment type\n",
    "fulfilment_and_shipment_totals = sales_data.groupby(['Fulfilment', 'Courier Status'], as_index=False)['Amount'].sum().sort_values(by=['Amount'], ascending=False)"
   ],
   "id": "1b7e96c06bffe994"
  },
  {
   "metadata": {},
   "cell_type": "markdown",
   "source": [
    "#### ===============================================================\n",
    "#### Exporting Data\n",
    "#### ==============================================================="
   ],
   "id": "2cbfa72fe6b4d3f3"
  },
  {
   "metadata": {},
   "cell_type": "code",
   "outputs": [],
   "execution_count": null,
   "source": "category_and_status_average.to_excel('average_sales_by_category.xlsx')",
   "id": "f6f77d2b83e4b79"
  }
 ],
 "metadata": {
  "kernelspec": {
   "display_name": "Python 3",
   "language": "python",
   "name": "python3"
  },
  "language_info": {
   "codemirror_mode": {
    "name": "ipython",
    "version": 2
   },
   "file_extension": ".py",
   "mimetype": "text/x-python",
   "name": "python",
   "nbconvert_exporter": "python",
   "pygments_lexer": "ipython2",
   "version": "2.7.6"
  }
 },
 "nbformat": 4,
 "nbformat_minor": 5
}
