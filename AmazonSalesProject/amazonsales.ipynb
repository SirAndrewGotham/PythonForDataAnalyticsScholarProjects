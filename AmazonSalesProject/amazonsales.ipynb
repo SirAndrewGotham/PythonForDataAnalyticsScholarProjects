{
 "cells": [
  {
   "metadata": {},
   "cell_type": "markdown",
   "source": "# General Amazon Sales Operations",
   "id": "6f89f336d9448587"
  },
  {
   "cell_type": "code",
   "id": "initial_id",
   "metadata": {
    "collapsed": true,
    "ExecuteTime": {
     "end_time": "2025-07-07T02:45:06.943919Z",
     "start_time": "2025-07-07T02:44:48.859901Z"
    }
   },
   "source": [
    "import pandas as pd\n",
    "\n",
    "sales_data = pd.read_excel('..\\\\..\\\\..\\\\DataSpell\\\\DataAnalyticsScholarProjects\\\\AmazonSalesProject\\\\sales_data.xlsx')"
   ],
   "outputs": [],
   "execution_count": 1
  },
  {
   "metadata": {},
   "cell_type": "markdown",
   "source": [
    "#### ===============================================================\n",
    "#### Exploring the data\n",
    "#### ==============================================================="
   ],
   "id": "a0c12ab096bc8922"
  },
  {
   "metadata": {
    "ExecuteTime": {
     "end_time": "2025-07-07T02:45:10.895101Z",
     "start_time": "2025-07-07T02:45:10.787953Z"
    }
   },
   "cell_type": "code",
   "source": [
    "# Get a summary of the sales data\n",
    "sales_data.info()\n",
    "sales_data.describe()\n"
   ],
   "id": "4c2552bdefd4c3d5",
   "outputs": [
    {
     "name": "stdout",
     "output_type": "stream",
     "text": [
      "<class 'pandas.core.frame.DataFrame'>\n",
      "RangeIndex: 128975 entries, 0 to 128974\n",
      "Data columns (total 23 columns):\n",
      " #   Column              Non-Null Count   Dtype  \n",
      "---  ------              --------------   -----  \n",
      " 0   index               128975 non-null  int64  \n",
      " 1   Order ID            128975 non-null  object \n",
      " 2   Date                128975 non-null  object \n",
      " 3   Status              128975 non-null  object \n",
      " 4   Fulfilment          128975 non-null  object \n",
      " 5   Sales Channel       128975 non-null  object \n",
      " 6   ship-service-level  128975 non-null  object \n",
      " 7   Style               128975 non-null  object \n",
      " 8   SKU                 128975 non-null  object \n",
      " 9   Category            128975 non-null  object \n",
      " 10  Size                128975 non-null  object \n",
      " 11  ASIN                128975 non-null  object \n",
      " 12  Courier Status      122103 non-null  object \n",
      " 13  Qty                 128975 non-null  int64  \n",
      " 14  currency            121180 non-null  object \n",
      " 15  Amount              121180 non-null  float64\n",
      " 16  ship-city           128942 non-null  object \n",
      " 17  ship-state          128935 non-null  object \n",
      " 18  ship-postal-code    128935 non-null  float64\n",
      " 19  ship-country        128935 non-null  object \n",
      " 20  promotion-ids       79815 non-null   object \n",
      " 21  B2B                 128968 non-null  float64\n",
      " 22  fulfilled-by        39276 non-null   object \n",
      "dtypes: float64(3), int64(2), object(18)\n",
      "memory usage: 22.6+ MB\n"
     ]
    },
    {
     "data": {
      "text/plain": [
       "               index            Qty         Amount  ship-postal-code  \\\n",
       "count  128975.000000  128975.000000  121180.000000     128935.000000   \n",
       "mean    64487.000000       0.904431     648.561465     463963.108256   \n",
       "std     37232.019822       0.313354     281.211687     191475.865632   \n",
       "min         0.000000       0.000000       0.000000     110001.000000   \n",
       "25%     32243.500000       1.000000     449.000000     382421.000000   \n",
       "50%     64487.000000       1.000000     605.000000     500033.000000   \n",
       "75%     96730.500000       1.000000     788.000000     600024.000000   \n",
       "max    128974.000000      15.000000    5584.000000     989898.000000   \n",
       "\n",
       "                 B2B  \n",
       "count  128968.000000  \n",
       "mean        0.006754  \n",
       "std         0.081903  \n",
       "min         0.000000  \n",
       "25%         0.000000  \n",
       "50%         0.000000  \n",
       "75%         0.000000  \n",
       "max         1.000000  "
      ],
      "text/html": [
       "<div>\n",
       "<style scoped>\n",
       "    .dataframe tbody tr th:only-of-type {\n",
       "        vertical-align: middle;\n",
       "    }\n",
       "\n",
       "    .dataframe tbody tr th {\n",
       "        vertical-align: top;\n",
       "    }\n",
       "\n",
       "    .dataframe thead th {\n",
       "        text-align: right;\n",
       "    }\n",
       "</style>\n",
       "<table border=\"1\" class=\"dataframe\">\n",
       "  <thead>\n",
       "    <tr style=\"text-align: right;\">\n",
       "      <th></th>\n",
       "      <th>index</th>\n",
       "      <th>Qty</th>\n",
       "      <th>Amount</th>\n",
       "      <th>ship-postal-code</th>\n",
       "      <th>B2B</th>\n",
       "    </tr>\n",
       "  </thead>\n",
       "  <tbody>\n",
       "    <tr>\n",
       "      <th>count</th>\n",
       "      <td>128975.000000</td>\n",
       "      <td>128975.000000</td>\n",
       "      <td>121180.000000</td>\n",
       "      <td>128935.000000</td>\n",
       "      <td>128968.000000</td>\n",
       "    </tr>\n",
       "    <tr>\n",
       "      <th>mean</th>\n",
       "      <td>64487.000000</td>\n",
       "      <td>0.904431</td>\n",
       "      <td>648.561465</td>\n",
       "      <td>463963.108256</td>\n",
       "      <td>0.006754</td>\n",
       "    </tr>\n",
       "    <tr>\n",
       "      <th>std</th>\n",
       "      <td>37232.019822</td>\n",
       "      <td>0.313354</td>\n",
       "      <td>281.211687</td>\n",
       "      <td>191475.865632</td>\n",
       "      <td>0.081903</td>\n",
       "    </tr>\n",
       "    <tr>\n",
       "      <th>min</th>\n",
       "      <td>0.000000</td>\n",
       "      <td>0.000000</td>\n",
       "      <td>0.000000</td>\n",
       "      <td>110001.000000</td>\n",
       "      <td>0.000000</td>\n",
       "    </tr>\n",
       "    <tr>\n",
       "      <th>25%</th>\n",
       "      <td>32243.500000</td>\n",
       "      <td>1.000000</td>\n",
       "      <td>449.000000</td>\n",
       "      <td>382421.000000</td>\n",
       "      <td>0.000000</td>\n",
       "    </tr>\n",
       "    <tr>\n",
       "      <th>50%</th>\n",
       "      <td>64487.000000</td>\n",
       "      <td>1.000000</td>\n",
       "      <td>605.000000</td>\n",
       "      <td>500033.000000</td>\n",
       "      <td>0.000000</td>\n",
       "    </tr>\n",
       "    <tr>\n",
       "      <th>75%</th>\n",
       "      <td>96730.500000</td>\n",
       "      <td>1.000000</td>\n",
       "      <td>788.000000</td>\n",
       "      <td>600024.000000</td>\n",
       "      <td>0.000000</td>\n",
       "    </tr>\n",
       "    <tr>\n",
       "      <th>max</th>\n",
       "      <td>128974.000000</td>\n",
       "      <td>15.000000</td>\n",
       "      <td>5584.000000</td>\n",
       "      <td>989898.000000</td>\n",
       "      <td>1.000000</td>\n",
       "    </tr>\n",
       "  </tbody>\n",
       "</table>\n",
       "</div>"
      ]
     },
     "execution_count": 2,
     "metadata": {},
     "output_type": "execute_result"
    }
   ],
   "execution_count": 2
  },
  {
   "metadata": {
    "ExecuteTime": {
     "end_time": "2025-07-07T02:45:21.328646Z",
     "start_time": "2025-07-07T02:45:21.325684Z"
    }
   },
   "cell_type": "code",
   "source": [
    "# columns list\n",
    "print(sales_data.columns)\n"
   ],
   "id": "90e4bd07cb756810",
   "outputs": [
    {
     "name": "stdout",
     "output_type": "stream",
     "text": [
      "Index(['index', 'Order ID', 'Date', 'Status', 'Fulfilment', 'Sales Channel ',\n",
      "       'ship-service-level', 'Style', 'SKU', 'Category', 'Size', 'ASIN',\n",
      "       'Courier Status', 'Qty', 'currency', 'Amount', 'ship-city',\n",
      "       'ship-state', 'ship-postal-code', 'ship-country', 'promotion-ids',\n",
      "       'B2B', 'fulfilled-by'],\n",
      "      dtype='object')\n"
     ]
    }
   ],
   "execution_count": 3
  },
  {
   "metadata": {
    "ExecuteTime": {
     "end_time": "2025-07-07T02:45:25.261968Z",
     "start_time": "2025-07-07T02:45:25.251528Z"
    }
   },
   "cell_type": "code",
   "source": [
    "# looking at the first few rows of data\n",
    "print(sales_data.head())\n"
   ],
   "id": "947fea78eef3db0a",
   "outputs": [
    {
     "name": "stdout",
     "output_type": "stream",
     "text": [
      "   index             Order ID      Date                        Status  \\\n",
      "0      0  405-8078784-5731545  04-30-22                     Cancelled   \n",
      "1      1  171-9198151-1101146  04-30-22  Shipped - Delivered to Buyer   \n",
      "2      2  404-0687676-7273146  04-30-22                       Shipped   \n",
      "3      3  403-9615377-8133951  04-30-22                     Cancelled   \n",
      "4      4  407-1069790-7240320  04-30-22                       Shipped   \n",
      "\n",
      "  Fulfilment Sales Channel  ship-service-level    Style              SKU  \\\n",
      "0   Merchant      Amazon.in           Standard   SET389   SET389-KR-NP-S   \n",
      "1   Merchant      Amazon.in           Standard  JNE3781  JNE3781-KR-XXXL   \n",
      "2     Amazon      Amazon.in          Expedited  JNE3371    JNE3371-KR-XL   \n",
      "3   Merchant      Amazon.in           Standard    J0341       J0341-DR-L   \n",
      "4     Amazon      Amazon.in          Expedited  JNE3671  JNE3671-TU-XXXL   \n",
      "\n",
      "  Category  ... Qty currency  Amount    ship-city   ship-state  \\\n",
      "0      Set  ...   0      INR  647.62       MUMBAI  MAHARASHTRA   \n",
      "1   Blouse  ...   1      INR  406.00    BENGALURU    KARNATAKA   \n",
      "2   Blouse  ...   1      INR  329.00  NAVI MUMBAI  MAHARASHTRA   \n",
      "3    Dress  ...   0      INR  753.33   PUDUCHERRY   PUDUCHERRY   \n",
      "4      Top  ...   1      INR  574.00      CHENNAI   TAMIL NADU   \n",
      "\n",
      "   ship-postal-code ship-country  \\\n",
      "0          400081.0           IN   \n",
      "1          560085.0           IN   \n",
      "2          410210.0           IN   \n",
      "3          605008.0           IN   \n",
      "4          600073.0           IN   \n",
      "\n",
      "                                       promotion-ids  B2B fulfilled-by  \n",
      "0                                                NaN  0.0    Easy Ship  \n",
      "1  Amazon PLCC Free-Financing Universal Merchant ...  0.0    Easy Ship  \n",
      "2       IN Core Free Shipping 2015/04/08 23-48-5-108  1.0          NaN  \n",
      "3                                                NaN  0.0    Easy Ship  \n",
      "4                                                NaN  0.0          NaN  \n",
      "\n",
      "[5 rows x 23 columns]\n"
     ]
    }
   ],
   "execution_count": 4
  },
  {
   "metadata": {
    "ExecuteTime": {
     "end_time": "2025-07-07T02:46:18.731298Z",
     "start_time": "2025-07-07T02:46:18.726030Z"
    }
   },
   "cell_type": "code",
   "source": [
    "# check columns datatypes\n",
    "print(sales_data.dtypes)"
   ],
   "id": "ac024d7a60f6edf6",
   "outputs": [
    {
     "name": "stdout",
     "output_type": "stream",
     "text": [
      "index                   int64\n",
      "Order ID               object\n",
      "Date                   object\n",
      "Status                 object\n",
      "Fulfilment             object\n",
      "Sales Channel          object\n",
      "ship-service-level     object\n",
      "Style                  object\n",
      "SKU                    object\n",
      "Category               object\n",
      "Size                   object\n",
      "ASIN                   object\n",
      "Courier Status         object\n",
      "Qty                     int64\n",
      "currency               object\n",
      "Amount                float64\n",
      "ship-city              object\n",
      "ship-state             object\n",
      "ship-postal-code      float64\n",
      "ship-country           object\n",
      "promotion-ids          object\n",
      "B2B                   float64\n",
      "fulfilled-by           object\n",
      "dtype: object\n"
     ]
    }
   ],
   "execution_count": 5
  },
  {
   "metadata": {},
   "cell_type": "markdown",
   "source": [
    "#### ===============================================================\n",
    "#### Cleaning the data\n",
    "#### ==============================================================="
   ],
   "id": "f797a9137f923a22"
  },
  {
   "metadata": {
    "ExecuteTime": {
     "end_time": "2025-07-07T02:46:31.571608Z",
     "start_time": "2025-07-07T02:46:31.498698Z"
    }
   },
   "cell_type": "code",
   "source": [
    "# Check for missing values in the sales data, summing it all up\n",
    "print(sales_data.isnull().sum())"
   ],
   "id": "31d89d6213000d97",
   "outputs": [
    {
     "name": "stdout",
     "output_type": "stream",
     "text": [
      "index                     0\n",
      "Order ID                  0\n",
      "Date                      0\n",
      "Status                    0\n",
      "Fulfilment                0\n",
      "Sales Channel             0\n",
      "ship-service-level        0\n",
      "Style                     0\n",
      "SKU                       0\n",
      "Category                  0\n",
      "Size                      0\n",
      "ASIN                      0\n",
      "Courier Status         6872\n",
      "Qty                       0\n",
      "currency               7795\n",
      "Amount                 7795\n",
      "ship-city                33\n",
      "ship-state               40\n",
      "ship-postal-code         40\n",
      "ship-country             40\n",
      "promotion-ids         49160\n",
      "B2B                       7\n",
      "fulfilled-by          89699\n",
      "dtype: int64\n"
     ]
    }
   ],
   "execution_count": 6
  },
  {
   "metadata": {
    "ExecuteTime": {
     "end_time": "2025-07-07T02:46:49.673456Z",
     "start_time": "2025-07-07T02:46:49.596073Z"
    }
   },
   "cell_type": "code",
   "source": [
    "# Drop any rows that has missing/nan values\n",
    "sales_data_dropped = sales_data.dropna() # too many due to dropping some unimportant columns\n"
   ],
   "id": "98a90f2893f732d2",
   "outputs": [],
   "execution_count": 7
  },
  {
   "metadata": {
    "ExecuteTime": {
     "end_time": "2025-07-07T02:47:27.926979Z",
     "start_time": "2025-07-07T02:47:27.898848Z"
    }
   },
   "cell_type": "code",
   "source": [
    "# Drop rows with missing amounts in the \"amount\" column\n",
    "sales_data_cleaned = sales_data.dropna(subset=['Amount'])\n"
   ],
   "id": "250e67f4386a7161",
   "outputs": [],
   "execution_count": 8
  },
  {
   "metadata": {
    "ExecuteTime": {
     "end_time": "2025-07-07T02:47:30.626076Z",
     "start_time": "2025-07-07T02:47:30.555913Z"
    }
   },
   "cell_type": "code",
   "source": [
    "# Check for missing valued in the cleaned dataset\n",
    "print(sales_data_cleaned.isnull().sum())"
   ],
   "id": "996ed955bdf92a6b",
   "outputs": [
    {
     "name": "stdout",
     "output_type": "stream",
     "text": [
      "index                     0\n",
      "Order ID                  0\n",
      "Date                      0\n",
      "Status                    0\n",
      "Fulfilment                0\n",
      "Sales Channel             0\n",
      "ship-service-level        0\n",
      "Style                     0\n",
      "SKU                       0\n",
      "Category                  0\n",
      "Size                      0\n",
      "ASIN                      0\n",
      "Courier Status         5136\n",
      "Qty                       0\n",
      "currency                  0\n",
      "Amount                    0\n",
      "ship-city                31\n",
      "ship-state               38\n",
      "ship-postal-code         38\n",
      "ship-country             38\n",
      "promotion-ids         41705\n",
      "B2B                       7\n",
      "fulfilled-by          83640\n",
      "dtype: int64\n"
     ]
    }
   ],
   "execution_count": 9
  }
 ],
 "metadata": {
  "kernelspec": {
   "display_name": "Python 3",
   "language": "python",
   "name": "python3"
  },
  "language_info": {
   "codemirror_mode": {
    "name": "ipython",
    "version": 2
   },
   "file_extension": ".py",
   "mimetype": "text/x-python",
   "name": "python",
   "nbconvert_exporter": "python",
   "pygments_lexer": "ipython2",
   "version": "2.7.6"
  }
 },
 "nbformat": 4,
 "nbformat_minor": 5
}
